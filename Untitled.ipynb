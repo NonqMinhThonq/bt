{
 "cells": [
  {
   "cell_type": "code",
   "execution_count": 1,
   "id": "a0bd0325",
   "metadata": {},
   "outputs": [],
   "source": [
    "import turtle\n",
    "p=turtle.Turtle()\n",
    "p.getscreen().bgcolor('red')\n",
    "p.color('yellow')\n",
    "p.penup()\n",
    "p.goto(-100,100)\n",
    "p.pendown()\n",
    "p.begin_fill()\n",
    "for i in range(5):\n",
    "    p.forward(200)\n",
    "    p.left(216)\n",
    "p.end_fill()\n",
    "p.penup()\n",
    "p.goto(-200,200)\n",
    "p.pendown()\n",
    "p.forward(400)\n",
    "p.right(90)\n",
    "p.forward(250)\n",
    "p.right(90)\n",
    "p.forward(400)\n",
    "p.right(90)\n",
    "p.forward(250)\n",
    "turtle.done()"
   ]
  }
 ],
 "metadata": {
  "kernelspec": {
   "display_name": "Python 3 (ipykernel)",
   "language": "python",
   "name": "python3"
  },
  "language_info": {
   "codemirror_mode": {
    "name": "ipython",
    "version": 3
   },
   "file_extension": ".py",
   "mimetype": "text/x-python",
   "name": "python",
   "nbconvert_exporter": "python",
   "pygments_lexer": "ipython3",
   "version": "3.10.7"
  }
 },
 "nbformat": 4,
 "nbformat_minor": 5
}
