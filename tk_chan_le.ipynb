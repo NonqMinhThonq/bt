{
 "cells": [
  {
   "cell_type": "code",
   "execution_count": 4,
   "id": "fff7bc7e",
   "metadata": {},
   "outputs": [
    {
     "name": "stdout",
     "output_type": "stream",
     "text": [
      "enter the number to check: 5\n",
      "5 là so le\n"
     ]
    }
   ],
   "source": [
    "x = int (input('enter the number to check: '))\n",
    "if x % 2 == 0:\n",
    "    print (x , ' la so chan')\n",
    "else:\n",
    "    print (x, 'là so le')"
   ]
  }
 ],
 "metadata": {
  "kernelspec": {
   "display_name": "Python 3 (ipykernel)",
   "language": "python",
   "name": "python3"
  },
  "language_info": {
   "codemirror_mode": {
    "name": "ipython",
    "version": 3
   },
   "file_extension": ".py",
   "mimetype": "text/x-python",
   "name": "python",
   "nbconvert_exporter": "python",
   "pygments_lexer": "ipython3",
   "version": "3.10.7"
  }
 },
 "nbformat": 4,
 "nbformat_minor": 5
}
