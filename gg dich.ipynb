{
 "cells": [
  {
   "cell_type": "code",
   "execution_count": 3,
   "id": "e1260fb7",
   "metadata": {},
   "outputs": [
    {
     "name": "stdout",
     "output_type": "stream",
     "text": [
      "nhập con vật cần dịch(khỉ, chó, gà ): f\n"
     ]
    }
   ],
   "source": [
    " c = True\n",
    "while c == True:\n",
    "    n = (input('nhập con vật cần dịch(khỉ, chó, gà ): ' ))\n",
    "    if( n == 'khỉ' or 'chó' or 'gà'):\n",
    "        c = False\n",
    "    print('vui long nhap lai')\n",
    "if n == 'khỉ':\n",
    "    print ('monkey')\n",
    "elif n == 'gà':\n",
    "    print ('chicken')\n",
    "elif n == 'chó':\n",
    "    print('dog')"
   ]
  },
  {
   "cell_type": "code",
   "execution_count": null,
   "id": "10a3887e",
   "metadata": {},
   "outputs": [],
   "source": []
  }
 ],
 "metadata": {
  "kernelspec": {
   "display_name": "Python 3 (ipykernel)",
   "language": "python",
   "name": "python3"
  },
  "language_info": {
   "codemirror_mode": {
    "name": "ipython",
    "version": 3
   },
   "file_extension": ".py",
   "mimetype": "text/x-python",
   "name": "python",
   "nbconvert_exporter": "python",
   "pygments_lexer": "ipython3",
   "version": "3.10.7"
  }
 },
 "nbformat": 4,
 "nbformat_minor": 5
}
