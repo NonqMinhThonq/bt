{
 "cells": [
  {
   "cell_type": "code",
   "execution_count": 1,
   "id": "6d47f348",
   "metadata": {},
   "outputs": [
    {
     "name": "stdout",
     "output_type": "stream",
     "text": [
      "[2, 3, 5, 8, 25, 45, 46, 57, 65, 67]\n"
     ]
    }
   ],
   "source": [
    "# SẮP XẾP TĂNG DẦN\n",
    " \n",
    "numbers = [3,45,2,46,5,25,65,8,57,67]\n",
    "lenth = len(numbers)\n",
    " \n",
    "# Lặp từ phần tử đầu đến kế cuối,\n",
    "# Vì khi đến phần tử cuối là đã sắp xếp thànhcông\n",
    "for i in range(0, lenth - 1):\n",
    "    for j in range(i + 1, lenth):\n",
    "        if (numbers[i] > numbers[j]):\n",
    "            # Hoán đổi vị trí\n",
    "            tmp = numbers[i]\n",
    "            numbers[i] = numbers[j]\n",
    "            numbers[j] = tmp\n",
    " \n",
    "print(numbers)"
   ]
  },
  {
   "cell_type": "code",
   "execution_count": null,
   "id": "f1daff35",
   "metadata": {},
   "outputs": [],
   "source": []
  }
 ],
 "metadata": {
  "kernelspec": {
   "display_name": "Python 3 (ipykernel)",
   "language": "python",
   "name": "python3"
  },
  "language_info": {
   "codemirror_mode": {
    "name": "ipython",
    "version": 3
   },
   "file_extension": ".py",
   "mimetype": "text/x-python",
   "name": "python",
   "nbconvert_exporter": "python",
   "pygments_lexer": "ipython3",
   "version": "3.10.7"
  }
 },
 "nbformat": 4,
 "nbformat_minor": 5
}
